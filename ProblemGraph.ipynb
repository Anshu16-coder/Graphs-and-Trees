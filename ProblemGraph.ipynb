{
 "cells": [
  {
   "cell_type": "markdown",
   "id": "a3e352ee",
   "metadata": {},
   "source": [
    "Tutorial:Graphs and Trees \n",
    "\n",
    "GRAPH: A graph is a collection of nodes (vertices) connected by edges. The set of vertices of a \n",
    "graph must be non-empty, but the set of edges can be empty.\n",
    "\n",
    "Degree of a Vertex:\n",
    "The degree of a vertex is the number of edges connected to it. \n",
    "In an undirected graph, if vertex A is connected to vertices B and C, then the degree of vertex A is 2."
   ]
  },
  {
   "cell_type": "markdown",
   "id": "484ae90e",
   "metadata": {},
   "source": [
    "Que-1.Write a code to find the degree of each vertex, and store it in a dictionary. \n",
    "Sort the keys of the dictionary by the degree stored in the values."
   ]
  },
  {
   "cell_type": "code",
   "execution_count": 65,
   "id": "a557bf4d",
   "metadata": {},
   "outputs": [
    {
     "name": "stdout",
     "output_type": "stream",
     "text": [
      "Degrees sorted by value: {'C': 2, 'E': 2, 'B': 3, 'D': 3, 'A': 4, 'F': 4}\n"
     ]
    }
   ],
   "source": [
    "def Finding_degree(graph):\n",
    "    # Finding the degree of each vertex of the graph\n",
    "    degrees = {vertex: len(neighbors) for vertex, neighbors in graph.items()}\n",
    "    # Sort the dictionary by values (degree), and return a new dictionary\n",
    "    sorted_degrees = dict(sorted(degrees.items(), key=lambda item: item[1]))\n",
    "    return sorted_degrees\n",
    "\n",
    "graph = {                                      # Sample graph\n",
    "    'A': ['B', 'C','D','E'],\n",
    "    'B': ['A', 'D', 'E'],\n",
    "    'C': ['A', 'F'],\n",
    "    'D': ['B','Z','P'],\n",
    "    'E': ['B', 'F'],\n",
    "    'F': ['C', 'E','N','T']\n",
    "}\n",
    "sorted_degrees = Finding_degree(graph)\n",
    "print(\"Degrees sorted by value:\", sorted_degrees)\n"
   ]
  },
  {
   "cell_type": "markdown",
   "id": "cc3346d6",
   "metadata": {},
   "source": [
    "Computational Representations \n",
    "1. Adjacency Matrix \n",
    "Tree \n",
    "No cycles \n",
    "Always connected. A \n",
    "collection of \n",
    "disconnected trees is \n",
    "called a Forest. \n",
    "Always V - 1 edges \n",
    "Has a root node \n",
    "Only one unique \n",
    "path \n",
    "a. It is a V × V matrix, where V is the number of vertices (nodes). \n",
    "b. Each cell matrix[i][j] represents whether there is an edge from node i to node j. \n",
    "c. Fast edge lookup \n",
    "d. Efficient for dense graphs \n",
    "2. Adjacency List \n",
    "a. Each node is associated with a list of connected nodes. \n",
    "b. graph = { 1: [2, 3], 2: [1, 4], 3: [1, 4], 4: [2, 3] } \n",
    "c. Space efficient for sparse graphs \n",
    "3. Edge List \n",
    "a. It stores only the edges of a graph as a list of pairs (or triplets if the graph is \n",
    "weighted). \n",
    "b. Space efficient for sparse graphs \n",
    "c. Suitable for some specific algorithms"
   ]
  },
  {
   "cell_type": "markdown",
   "id": "47adc28d",
   "metadata": {},
   "source": [
    "2.Write a code to inter-convert the 3 graph representations.\n"
   ]
  },
  {
   "cell_type": "markdown",
   "id": "1daea3eb",
   "metadata": {},
   "source": [
    "Adjacency list to Adjacency matrix and Adjacency matrix to Adjacency list,\n"
   ]
  },
  {
   "cell_type": "code",
   "execution_count": 48,
   "id": "8cf1a11b",
   "metadata": {},
   "outputs": [
    {
     "name": "stdout",
     "output_type": "stream",
     "text": [
      "Adjacency Matrix:\n",
      "[0, 1, 1]\n",
      "[1, 0, 0]\n",
      "[1, 0, 0]\n"
     ]
    }
   ],
   "source": [
    "def adj_list_to_adj_matrix(adj_list):\n",
    "    # Sort nodes to fix index order\n",
    "    nodes = sorted(adj_list.keys())\n",
    "    node_indices = {node: idx for idx, node in enumerate(nodes)}\n",
    "    size = len(nodes)\n",
    "    matrix = [[0] * size for _ in range(size)]\n",
    "\n",
    "    for node, neighbors in adj_list.items():\n",
    "        for neighbor in neighbors:\n",
    "            i, j = node_indices[node], node_indices[neighbor]\n",
    "            matrix[i][j] = 1\n",
    "            matrix[j][i] = 1  # undirected\n",
    "\n",
    "    return matrix, nodes\n",
    "\n",
    "# Example\n",
    "adj_list = {'A': ['B', 'C'], 'B': ['A'], 'C': ['A']}\n",
    "matrix, nodes = adj_list_to_adj_matrix(adj_list)\n",
    "print(\"Adjacency Matrix:\")\n",
    "for row in matrix:\n",
    "    print(row)\n"
   ]
  },
  {
   "cell_type": "code",
   "execution_count": 49,
   "id": "462781df",
   "metadata": {},
   "outputs": [
    {
     "name": "stdout",
     "output_type": "stream",
     "text": [
      "Adjacency List: {'A': ['B', 'C'], 'B': ['A'], 'C': ['A']}\n"
     ]
    }
   ],
   "source": [
    "def adj_matrix_to_adj_list(matrix, nodes):\n",
    "    adj_list = {}\n",
    "    for i in range(len(matrix)):\n",
    "        adj_list[nodes[i]] = []\n",
    "        for j in range(len(matrix)):\n",
    "            if matrix[i][j] == 1:\n",
    "                adj_list[nodes[i]].append(nodes[j])\n",
    "    return adj_list\n",
    "\n",
    "# Example\n",
    "nodes = ['A', 'B', 'C']\n",
    "matrix = [[0, 1, 1], [1, 0, 0], [1, 0, 0]]\n",
    "adj_list = adj_matrix_to_adj_list(matrix, nodes)\n",
    "print(\"Adjacency List:\", adj_list)\n"
   ]
  },
  {
   "cell_type": "markdown",
   "id": "c001c0eb",
   "metadata": {},
   "source": [
    "Adjacency list to Edge list and Edge list to Adjacency list,\n"
   ]
  },
  {
   "cell_type": "code",
   "execution_count": 50,
   "id": "29387114",
   "metadata": {},
   "outputs": [
    {
     "name": "stdout",
     "output_type": "stream",
     "text": [
      "Edge List: [('A', 'B'), ('A', 'C')]\n"
     ]
    }
   ],
   "source": [
    "def adj_list_to_edge_list(adj_list):\n",
    "    edge_list = []\n",
    "    visited = set()\n",
    "    for node, neighbors in adj_list.items():\n",
    "        for neighbor in neighbors:\n",
    "            if (neighbor, node) not in visited:\n",
    "                edge_list.append((node, neighbor))\n",
    "                visited.add((node, neighbor))\n",
    "    return edge_list\n",
    "\n",
    "# Example\n",
    "adj_list = {'A': ['B', 'C'], 'B': ['A'], 'C': ['A']}\n",
    "edge_list = adj_list_to_edge_list(adj_list)\n",
    "print(\"Edge List:\", edge_list)\n"
   ]
  },
  {
   "cell_type": "code",
   "execution_count": 51,
   "id": "eec28b7e",
   "metadata": {},
   "outputs": [
    {
     "name": "stdout",
     "output_type": "stream",
     "text": [
      "Adjacency List: {'A': ['B', 'C'], 'B': ['A'], 'C': ['A']}\n"
     ]
    }
   ],
   "source": [
    "def edge_list_to_adj_list(edge_list):\n",
    "    adj_list = {}\n",
    "    for u, v in edge_list:\n",
    "        adj_list.setdefault(u, []).append(v)\n",
    "        adj_list.setdefault(v, []).append(u)\n",
    "    return adj_list\n",
    "\n",
    "# Example\n",
    "edge_list = [('A', 'B'), ('A', 'C')]\n",
    "adj_list = edge_list_to_adj_list(edge_list)\n",
    "print(\"Adjacency List:\", adj_list)\n"
   ]
  },
  {
   "cell_type": "markdown",
   "id": "74418aca",
   "metadata": {},
   "source": [
    "Adjacency matrix to Edge list and Edge list to Adjacency matrix"
   ]
  },
  {
   "cell_type": "code",
   "execution_count": 52,
   "id": "f3366126",
   "metadata": {},
   "outputs": [
    {
     "name": "stdout",
     "output_type": "stream",
     "text": [
      "Edge List: [('A', 'B'), ('A', 'C')]\n"
     ]
    }
   ],
   "source": [
    "def adj_matrix_to_edge_list(matrix, nodes):\n",
    "    edge_list = []\n",
    "    for i in range(len(matrix)):\n",
    "        for j in range(i + 1, len(matrix)):\n",
    "            if matrix[i][j] == 1:\n",
    "                edge_list.append((nodes[i], nodes[j]))\n",
    "    return edge_list\n",
    "\n",
    "# Example\n",
    "nodes = ['A', 'B', 'C']\n",
    "matrix = [[0, 1, 1], [1, 0, 0], [1, 0, 0]]\n",
    "edge_list = adj_matrix_to_edge_list(matrix, nodes)\n",
    "print(\"Edge List:\", edge_list)\n"
   ]
  },
  {
   "cell_type": "code",
   "execution_count": 53,
   "id": "fedf0653",
   "metadata": {},
   "outputs": [
    {
     "name": "stdout",
     "output_type": "stream",
     "text": [
      "Adjacency Matrix:\n",
      "[0, 1, 1]\n",
      "[1, 0, 0]\n",
      "[1, 0, 0]\n"
     ]
    }
   ],
   "source": [
    "def edge_list_to_adj_matrix(edge_list):\n",
    "    # Extract all nodes\n",
    "    nodes = sorted(set([u for u, v in edge_list] + [v for u, v in edge_list]))\n",
    "    node_indices = {node: idx for idx, node in enumerate(nodes)}\n",
    "    size = len(nodes)\n",
    "    matrix = [[0] * size for _ in range(size)]\n",
    "\n",
    "    for u, v in edge_list:\n",
    "        i, j = node_indices[u], node_indices[v]\n",
    "        matrix[i][j] = 1\n",
    "        matrix[j][i] = 1\n",
    "\n",
    "    return matrix, nodes\n",
    "\n",
    "# Example\n",
    "edge_list = [('A', 'B'), ('A', 'C')]\n",
    "matrix, nodes = edge_list_to_adj_matrix(edge_list)\n",
    "print(\"Adjacency Matrix:\")\n",
    "for row in matrix:\n",
    "    print(row)\n"
   ]
  },
  {
   "cell_type": "markdown",
   "id": "c9669cfd",
   "metadata": {},
   "source": [
    "3.Given a graph and two vertices, check if they are adjacent. "
   ]
  },
  {
   "cell_type": "code",
   "execution_count": 4,
   "id": "53480ecf",
   "metadata": {},
   "outputs": [
    {
     "name": "stdout",
     "output_type": "stream",
     "text": [
      "True\n",
      "False\n",
      "True\n",
      "False\n"
     ]
    }
   ],
   "source": [
    "def are_adjacent(graph, u, v):\n",
    "    return v in graph.get(u, [])\n",
    "\n",
    "graph = {\n",
    "    'A': ['B', 'C','E'],\n",
    "    'B': ['A', 'D'],\n",
    "    'C': ['A'],\n",
    "    'D': ['B','Z']\n",
    "}\n",
    "\n",
    "# Test cases\n",
    "print(are_adjacent(graph, 'A', 'B'))\n",
    "print(are_adjacent(graph, 'A', 'D'))\n",
    "print(are_adjacent(graph, 'B', 'D'))  \n",
    "print(are_adjacent(graph, 'C', 'D'))\n"
   ]
  },
  {
   "cell_type": "markdown",
   "id": "78f58c63",
   "metadata": {},
   "source": [
    "Complete Graph : A complete graph is a graph where every pair of nodes is adjacent.  "
   ]
  },
  {
   "cell_type": "markdown",
   "id": "c48dd98e",
   "metadata": {},
   "source": [
    "4.Check if a graph is complete"
   ]
  },
  {
   "cell_type": "code",
   "execution_count": 5,
   "id": "153aaac3",
   "metadata": {},
   "outputs": [
    {
     "name": "stdout",
     "output_type": "stream",
     "text": [
      "True\n",
      "False\n"
     ]
    }
   ],
   "source": [
    "def is_complete(graph):\n",
    "   \n",
    "    # Get the number of vertices in the graph\n",
    "    n = len(graph)\n",
    "    \n",
    "    # Check if each vertex has n-1 neighbors\n",
    "    for vertex in graph:\n",
    "        if len(graph[vertex]) != n - 1:\n",
    "            return False  # If any vertex doesn't have n-1 neighbors, it's not complete\n",
    "    \n",
    "    return True  # If all vertices have n-1 neighbors, the graph is complete\n",
    "\n",
    "# Sample graph (Complete Graph)\n",
    "graph1 = {\n",
    "    'A': ['B', 'C', 'D'],\n",
    "    'B': ['A', 'C', 'D'],\n",
    "    'C': ['A', 'B', 'D'],\n",
    "    'D': ['A', 'B', 'C']\n",
    "}\n",
    "\n",
    "# Sample graph (Not Complete Graph)\n",
    "graph2 = {\n",
    "    'A': ['B', 'C'],\n",
    "    'B': ['A', 'D'],\n",
    "    'C': ['A'],\n",
    "    'D': ['B']\n",
    "}\n",
    "\n",
    "# Checking if the graphs are complete\n",
    "print(is_complete(graph1))  \n",
    "print(is_complete(graph2))  \n"
   ]
  },
  {
   "cell_type": "markdown",
   "id": "f15080b0",
   "metadata": {},
   "source": [
    "Connected Graph : A connected graph is a graph where every pair of nodes is \n",
    "connected by a path.  "
   ]
  },
  {
   "cell_type": "markdown",
   "id": "286fd9d6",
   "metadata": {},
   "source": [
    "5.Check if a graph is connected."
   ]
  },
  {
   "cell_type": "code",
   "execution_count": 6,
   "id": "7a1547aa",
   "metadata": {},
   "outputs": [
    {
     "name": "stdout",
     "output_type": "stream",
     "text": [
      "False\n"
     ]
    }
   ],
   "source": [
    "def dfs(graph, vertex, visited):\n",
    "    visited.add(vertex)\n",
    "    for neighbor in graph.get(vertex, []):\n",
    "        if neighbor not in visited:\n",
    "            dfs(graph, neighbor, visited)\n",
    "\n",
    "def is_connected(graph):\n",
    "    visited = set()  # A set to track visited vertices\n",
    "\n",
    "    # Get the list of all vertices (keys of the graph)\n",
    "    all_vertices = set(graph.keys())\n",
    "\n",
    "    # Edge case: If the graph has no vertices, return False\n",
    "    if not all_vertices:\n",
    "        return False\n",
    "    \n",
    "    # Start DFS from an arbitrary vertex (the first vertex in the graph)\n",
    "    start_vertex = next(iter(graph))  # Get the first vertex\n",
    "    dfs(graph, start_vertex, visited)\n",
    "\n",
    "    # If all vertices are visited, the graph is connected\n",
    "    return visited == all_vertices\n",
    "\n",
    "# Sample connected graph (every vertex is reachable from any other vertex)\n",
    "graph1 = {\n",
    "    'A': ['B', 'C'],\n",
    "    'B': ['A', 'C'],\n",
    "    'C': ['A', 'B'],\n",
    "    'D': ['B']\n",
    "}\n",
    "\n",
    "# Checking if the graph are connected\n",
    "print(is_connected(graph1))  \n"
   ]
  },
  {
   "cell_type": "markdown",
   "id": "ec505979",
   "metadata": {},
   "source": [
    "1. Walk : A walk in a graph is a sequence of vertices where each consecutive pair of \n",
    "vertices in the sequence is connected by an edge. Edges and Vertices can both be \n",
    "repeated. \n",
    "a. Open walk - A walk is said to be an open walk if the starting and ending vertices \n",
    "are different. \n",
    "b. Closed walk - A walk is said to be a closed walk if the starting and ending \n",
    "vertices are identical. \n",
    "c. Random walk - A walk in which the next vertex is chosen randomly from \n",
    "amongst the available options from the current vertex. \n",
    "2. Trail : Trail is an open walk in which no edge is repeated, but vertices can be repeated. \n",
    "3. Path : Path is a walk in which neither vertices nor edges are repeated, except possibly \n",
    "the start and end vertices."
   ]
  },
  {
   "cell_type": "markdown",
   "id": "0e400af6",
   "metadata": {},
   "source": [
    "6.Given a graph and a list of vertices, check if it forms a walk, or a trail or a path or none of these."
   ]
  },
  {
   "cell_type": "code",
   "execution_count": 13,
   "id": "e3f561da",
   "metadata": {},
   "outputs": [
    {
     "name": "stdout",
     "output_type": "stream",
     "text": [
      "Trail\n",
      "NOTA\n",
      "Walk\n",
      "Trail\n",
      "Trail\n",
      "Trail\n"
     ]
    }
   ],
   "source": [
    "def is_walk(graph, vertices):\n",
    "    # Check if the vertices are connected by edges\n",
    "    for i in range(len(vertices) - 1):\n",
    "        if vertices[i+1] not in graph.get(vertices[i], []):\n",
    "            return \"NOTA\"\n",
    "    return \"Walk\"\n",
    "\n",
    "def is_trail(graph, vertices):\n",
    "    # Check if the edges are unique (no repeated edge)\n",
    "    edges_visited = set()\n",
    "    for i in range(len(vertices) - 1):\n",
    "        edge = (vertices[i], vertices[i+1])\n",
    "        if edge in edges_visited or (vertices[i+1], vertices[i]) in edges_visited:\n",
    "            return \"NOTA\"\n",
    "        edges_visited.add(edge)\n",
    "    return \"Trail\"\n",
    "\n",
    "def is_path(graph, vertices):\n",
    "    # Check if the vertices and edges are unique (no repeated vertex and no repeated edge)\n",
    "    if len(vertices) != len(set(vertices)):  # Check for repeated vertices\n",
    "        return \"NOTA\"\n",
    "    return is_trail(graph, vertices)\n",
    "\n",
    "def check_graph_type(graph, vertices):\n",
    "    if not all(v in graph for v in vertices):\n",
    "        return \"NOTA\"  # If any vertex is not in the graph\n",
    "    \n",
    "    result = is_path(graph, vertices)\n",
    "    if result != \"NOTA\":\n",
    "        return result\n",
    "    result = is_trail(graph, vertices)\n",
    "    if result != \"NOTA\":\n",
    "        return result\n",
    "    return is_walk(graph, vertices)  # If it's neither a path nor a trail, check if it's a walk\n",
    "\n",
    "# Example graph (Adjacency list)\n",
    "graph = {\n",
    "    'A': ['B', 'C'],\n",
    "    'B': ['A', 'C'],\n",
    "    'C': ['A', 'B', 'D'],\n",
    "    'D': ['C']\n",
    "}\n",
    "\n",
    "# Test case (sequence of vertices)\n",
    "vertices = ['A', 'B', 'C', 'D']\n",
    "\n",
    "# Check the type of sequence\n",
    "result = check_graph_type(graph, vertices)\n",
    "print(result)  # Output will be either \"NOTA\", \"Walk\", \"Trail\", or \"Path\"\n",
    "\n",
    "\n",
    "# Test cases for the main function\n",
    "vertices1 = ['A', 'B', 'D', 'E']  \n",
    "vertices2 = ['A', 'B', 'A', 'C']  \n",
    "vertices3 = ['A', 'B', 'C', 'D', 'A']  \n",
    "vertices4 = ['A', 'C', 'B']  \n",
    "vertices5 = ['A', 'B', 'C', 'D']  \n",
    "\n",
    "# Main Function Call to Check Walk, Trail, or Path\n",
    "print(check_graph_type(graph, vertices1))  \n",
    "print(check_graph_type(graph, vertices2))\n",
    "print(check_graph_type(graph, vertices3))  \n",
    "print(check_graph_type(graph, vertices4))\n",
    "print(check_graph_type(graph, vertices5))\n"
   ]
  },
  {
   "cell_type": "markdown",
   "id": "9f5413ea",
   "metadata": {},
   "source": [
    "TREE: A tree is an acyclic connected graph. \n",
    "It has the following properties: A tree with V nodes has exactly (V - 1) edges. \n",
    "There is only one unique path between any two nodes. "
   ]
  },
  {
   "cell_type": "markdown",
   "id": "57aa8ff5",
   "metadata": {},
   "source": [
    "7.Check if a given graph is a tree."
   ]
  },
  {
   "cell_type": "code",
   "execution_count": 10,
   "id": "777a9585",
   "metadata": {},
   "outputs": [
    {
     "name": "stdout",
     "output_type": "stream",
     "text": [
      "True\n",
      "False\n"
     ]
    }
   ],
   "source": [
    "def is_connected(graph, vertices):\n",
    "    visited = set()\n",
    "    def dfs(v):\n",
    "        visited.add(v)\n",
    "        for neighbor in graph.get(v, []):\n",
    "            if neighbor not in visited:\n",
    "                dfs(neighbor)\n",
    "\n",
    "    # Start DFS from the first vertex in the list of vertices\n",
    "    dfs(vertices[0])\n",
    "\n",
    "    # If all vertices are visited, the graph is connected\n",
    "    return len(visited) == len(vertices)\n",
    "\n",
    "\n",
    "def has_cycle(graph, vertices):\n",
    "    visited = set()\n",
    "    parent = {v: None for v in vertices}\n",
    "\n",
    "    def dfs(v):\n",
    "        visited.add(v)\n",
    "        for neighbor in graph.get(v, []):\n",
    "            if neighbor not in visited:\n",
    "                parent[neighbor] = v\n",
    "                if dfs(neighbor):\n",
    "                    return True\n",
    "            # If the neighbor is visited and it's not the parent, a cycle exists\n",
    "            elif parent[v] != neighbor:\n",
    "                return True\n",
    "        return False\n",
    "\n",
    "    # Check for cycles starting from the first vertex\n",
    "    return dfs(vertices[0])\n",
    "\n",
    "\n",
    "def is_tree(graph):\n",
    "    vertices = list(graph.keys())  # Get all the vertices\n",
    "    num_vertices = len(vertices)\n",
    "    num_edges = sum(len(neighbors) for neighbors in graph.values()) // 2  # Since it's an undirected graph, divide by 2\n",
    "\n",
    "    # Check the two conditions for a tree:\n",
    "    # 1. The graph must have exactly n-1 edges.\n",
    "    if num_edges != num_vertices - 1:\n",
    "        return False\n",
    "\n",
    "    # 2. The graph must be connected and should not have cycles.\n",
    "    if not is_connected(graph, vertices) or has_cycle(graph, vertices):\n",
    "        return False\n",
    "\n",
    "    return True\n",
    "# Sample graph that is a tree\n",
    "graph1 = {\n",
    "    'A': ['B', 'C'],\n",
    "    'B': ['A', 'D'],\n",
    "    'C': ['A'],\n",
    "    'D': ['B']\n",
    "}\n",
    "\n",
    "# Sample graph that is not a tree (has a cycle)\n",
    "graph2 = {\n",
    "    'A': ['B', 'C'],\n",
    "    'B': ['A', 'C'],\n",
    "    'C': ['A', 'B']\n",
    "}\n",
    "\n",
    "# Check if the graphs are trees\n",
    "print(is_tree(graph1))  \n",
    "print(is_tree(graph2))  \n",
    "\n"
   ]
  },
  {
   "cell_type": "markdown",
   "id": "2f6ee5af",
   "metadata": {},
   "source": [
    "A spanning tree of a graph is a subgraph that:\n",
    "Includes all the vertices of the original graph.\n",
    "Is a tree (i.e., connected and acyclic — no loops).\n",
    "Has exactly (V - 1) edges, where V is the number of vertices.\n",
    "\n"
   ]
  },
  {
   "cell_type": "markdown",
   "id": "aecf3fb3",
   "metadata": {},
   "source": [
    "8.Given a connected cyclic graph, find its spanning tree.\n"
   ]
  },
  {
   "cell_type": "code",
   "execution_count": null,
   "id": "f72dab41",
   "metadata": {},
   "outputs": [
    {
     "name": "stdout",
     "output_type": "stream",
     "text": [
      "Spanning Tree Edges: [('A', 'B'), ('B', 'C'), ('C', 'D')]\n"
     ]
    }
   ],
   "source": [
    "def dfs_spanning_tree(graph, start):\n",
    "    visited = set()\n",
    "    tree_edges = []  # List to store the edges of the spanning tree\n",
    "    \n",
    "    def dfs(v):\n",
    "        visited.add(v)\n",
    "        for neighbor in graph.get(v, []):\n",
    "            if neighbor not in visited:\n",
    "                tree_edges.append((v, neighbor))  # Add the edge to the spanning tree\n",
    "                dfs(neighbor)\n",
    "\n",
    "    # Start DFS from the given starting vertex\n",
    "    dfs(start)\n",
    "    \n",
    "    return tree_edges\n",
    "\n",
    "# Example connected cyclic graph\n",
    "graph = {\n",
    "    'A': ['B', 'C', 'D'],\n",
    "    'B': ['A', 'C', 'D'],\n",
    "    'C': ['A', 'B', 'D'],\n",
    "    'D': ['A', 'B', 'C']\n",
    "}\n",
    "\n",
    "# Find the spanning tree starting from vertex 'A'\n",
    "spanning_tree = dfs_spanning_tree(graph, 'A')\n",
    "print(\"Spanning Tree Edges:\", spanning_tree)\n"
   ]
  },
  {
   "cell_type": "markdown",
   "id": "54e7802f",
   "metadata": {},
   "source": [
    "9.Given a tree, find the number of leaf nodes."
   ]
  },
  {
   "cell_type": "code",
   "execution_count": null,
   "id": "0498258a",
   "metadata": {},
   "outputs": [
    {
     "name": "stdout",
     "output_type": "stream",
     "text": [
      "Number of leaf nodes: 3\n"
     ]
    }
   ],
   "source": [
    "def count_leaf_nodes(graph, root):\n",
    "    visited = set()  # To track visited nodes\n",
    "    \n",
    "    def dfs(node):\n",
    "        visited.add(node)\n",
    "        # If the node has no children (it's a leaf)\n",
    "        if not graph.get(node):  # If no neighbors are present\n",
    "            return 1\n",
    "        leaf_count = 0\n",
    "        # Traverse all the neighbors\n",
    "        for neighbor in graph.get(node, []):\n",
    "            if neighbor not in visited:\n",
    "                leaf_count += dfs(neighbor)  # Add leaf count from the child\n",
    "        return leaf_count\n",
    "    \n",
    "    # Start DFS from the root node\n",
    "    return dfs(root)\n",
    "\n",
    "# Example tree\n",
    "graph = {\n",
    "    'A': ['B', 'C'],\n",
    "    'B': ['D', 'E'],\n",
    "    'C': [],\n",
    "    'D': [],\n",
    "    'E': []\n",
    "}\n",
    "\n",
    "# Find the number of leaf nodes\n",
    "leaf_count = count_leaf_nodes(graph, 'A')\n",
    "print(f\"Number of leaf nodes: {leaf_count}\")\n"
   ]
  },
  {
   "cell_type": "markdown",
   "id": "2c91aadb",
   "metadata": {},
   "source": [
    "A Binary Tree is a special type of tree where:\n",
    "Each node has at most two children.\n",
    "The children are typically referred to as:\n",
    "Left child\n",
    "Right child"
   ]
  },
  {
   "cell_type": "markdown",
   "id": "2b8cfefb",
   "metadata": {},
   "source": [
    "10.Given a tree, check if it's a binary tree."
   ]
  },
  {
   "cell_type": "code",
   "execution_count": 14,
   "id": "d3e9109d",
   "metadata": {},
   "outputs": [
    {
     "name": "stdout",
     "output_type": "stream",
     "text": [
      "True\n",
      "False\n"
     ]
    }
   ],
   "source": [
    "def is_binary_tree(graph):\n",
    "    for node, children in graph.items():\n",
    "        # If a node has more than two children, it's not a binary tree\n",
    "        if len(children) > 2:\n",
    "            return False\n",
    "    return True\n",
    "\n",
    "# Example Tree (Binary Tree)\n",
    "graph1 = {\n",
    "    'A': ['B', 'C'],\n",
    "    'B': ['D', 'E'],\n",
    "    'C': [],\n",
    "    'D': [],\n",
    "    'E': []\n",
    "}\n",
    "\n",
    "# Example Tree (Not a Binary Tree)\n",
    "graph2 = {\n",
    "    'A': ['B', 'C', 'D'],\n",
    "    'B': ['E'],\n",
    "    'C': [],\n",
    "    'D': [],\n",
    "    'E': []\n",
    "}\n",
    "\n",
    "# Check if the graphs are binary trees\n",
    "print(is_binary_tree(graph1))  \n",
    "print(is_binary_tree(graph2))  \n"
   ]
  },
  {
   "cell_type": "markdown",
   "id": "1a0a4564",
   "metadata": {},
   "source": [
    "The height of a tree is the number of edges on the longest path from the root node to a leaf node."
   ]
  },
  {
   "cell_type": "markdown",
   "id": "1d7a71bd",
   "metadata": {},
   "source": [
    "11.Given a tree and a node, find its height"
   ]
  },
  {
   "cell_type": "code",
   "execution_count": 15,
   "id": "417ca99a",
   "metadata": {},
   "outputs": [
    {
     "name": "stdout",
     "output_type": "stream",
     "text": [
      "Height of node 'A': 3\n",
      "Height of node 'B': 2\n",
      "Height of node 'C': 0\n"
     ]
    }
   ],
   "source": [
    "def find_height(graph, node):\n",
    "   # If the node has no children (it's a leaf), its height is 0\n",
    "    if node not in graph or not graph[node]:\n",
    "        return 0\n",
    "\n",
    "    # Recursively find the height of the children and return the maximum height + 1\n",
    "    heights = [find_height(graph, child) for child in graph[node]]\n",
    "    return 1 + max(heights)\n",
    "\n",
    "# Example Tree (Graph Representation)\n",
    "graph = {\n",
    "    'A': ['B', 'C'],\n",
    "    'B': ['D', 'E'],\n",
    "    'C': [],\n",
    "    'D': [],\n",
    "    'E': ['F'],\n",
    "    'F': []\n",
    "}\n",
    "\n",
    "# Find the height of the node 'A'\n",
    "height_A = find_height(graph, 'A')\n",
    "print(f\"Height of node 'A': {height_A}\")\n",
    "\n",
    "# Find the height of the node 'B'\n",
    "height_B = find_height(graph, 'B')\n",
    "print(f\"Height of node 'B': {height_B}\")\n",
    "\n",
    "# Find the height of the node 'C'\n",
    "height_C = find_height(graph, 'C')\n",
    "print(f\"Height of node 'C': {height_C}\")\n",
    "\n",
    "# Find\n"
   ]
  },
  {
   "cell_type": "markdown",
   "id": "5b9fb1c3",
   "metadata": {},
   "source": [
    "The depth of a node is the number of edges from the root node to that particular node.\n",
    "The depth of the root is always 0.\n",
    "Depth increases by 1 for each level as you go down the tree."
   ]
  },
  {
   "cell_type": "markdown",
   "id": "dc1862d7",
   "metadata": {},
   "source": [
    "12.Given a tree and a node, find its depth."
   ]
  },
  {
   "cell_type": "code",
   "execution_count": null,
   "id": "e977c648",
   "metadata": {},
   "outputs": [
    {
     "name": "stdout",
     "output_type": "stream",
     "text": [
      "Depth of node 'A': 0\n",
      "Depth of node 'B': 1\n",
      "Depth of node 'D': 2\n",
      "Depth of node 'F': 3\n",
      "Depth of node 'Z': -1\n"
     ]
    }
   ],
   "source": [
    "def find_depth(graph, root, target, depth=0):\n",
    "    if root == target:\n",
    "        return depth\n",
    "    \n",
    "    for child in graph.get(root, []):\n",
    "        d = find_depth(graph, child, target, depth + 1)\n",
    "        if d != -1:\n",
    "            return d\n",
    "    \n",
    "    return -1  # Node not found in this path\n",
    "\n",
    "#Sample Tree (Adjacency List)\n",
    "tree = {\n",
    "    'A': ['B', 'C'],\n",
    "    'B': ['D', 'E'],\n",
    "    'C': [],\n",
    "    'D': [],\n",
    "    'E': ['F'],\n",
    "    'F': []\n",
    "}\n",
    "\n",
    "# Test Cases\n",
    "print(f\"Depth of node 'A': {find_depth(tree, 'A', 'A')}\")  \n",
    "print(f\"Depth of node 'B': {find_depth(tree, 'A', 'B')}\")  \n",
    "print(f\"Depth of node 'D': {find_depth(tree, 'A', 'D')}\")  \n",
    "print(f\"Depth of node 'F': {find_depth(tree, 'A', 'F')}\")  \n",
    "print(f\"Depth of node 'Z': {find_depth(tree, 'A', 'Z')}\")  \n"
   ]
  }
 ],
 "metadata": {
  "kernelspec": {
   "display_name": "Python 3",
   "language": "python",
   "name": "python3"
  },
  "language_info": {
   "codemirror_mode": {
    "name": "ipython",
    "version": 3
   },
   "file_extension": ".py",
   "mimetype": "text/x-python",
   "name": "python",
   "nbconvert_exporter": "python",
   "pygments_lexer": "ipython3",
   "version": "3.12.9"
  }
 },
 "nbformat": 4,
 "nbformat_minor": 5
}
